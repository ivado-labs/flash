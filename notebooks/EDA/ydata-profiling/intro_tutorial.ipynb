{
 "cells": [
  {
   "cell_type": "markdown",
   "id": "0",
   "metadata": {},
   "source": [
    "# Ydata-profilling Tutorial\n",
    "The Flash team is excited to share with you a small tutorial on Ydata-profilling.\n",
    "Before jumping into this tutorial, we recommend giving a look to this [README](README.md) in order to get more familiar with Ydata-profilling and its pros/cons ! \n",
    "\n",
    "Now that’s being said, let’s dig into a small example where we will explore the Census Income dataset."
   ]
  },
  {
   "cell_type": "markdown",
   "id": "1",
   "metadata": {},
   "source": [
    "## Import libraries"
   ]
  },
  {
   "cell_type": "code",
   "execution_count": null,
   "id": "2",
   "metadata": {},
   "outputs": [],
   "source": [
    "import pandas as pd\n",
    "from ucimlrepo import fetch_ucirepo \n",
    "from ydata_profiling import ProfileReport"
   ]
  },
  {
   "cell_type": "markdown",
   "id": "3",
   "metadata": {},
   "source": [
    "## Import data\n",
    "\n",
    "In this example we will use the Census Income dataset. \n",
    "\n",
    "A classification dataset used to predict whether someone's income is above 50k$ based on demographic features."
   ]
  },
  {
   "cell_type": "code",
   "execution_count": null,
   "id": "4",
   "metadata": {},
   "outputs": [],
   "source": [
    "income_census_raw = fetch_ucirepo(id=2) \n",
    "income_census = pd.DataFrame(income_census_raw.data.features, columns=income_census_raw.feature_names)\n",
    "income_census['income'] = income_census_raw.data.targets"
   ]
  },
  {
   "cell_type": "code",
   "execution_count": null,
   "id": "5",
   "metadata": {},
   "outputs": [],
   "source": [
    "profile = ProfileReport(\n",
    "    income_census, \n",
    "    title=\"Adult income census Dataset\", \n",
    "    html={\"style\": {\"full_width\": True}}\n",
    ")"
   ]
  },
  {
   "cell_type": "code",
   "execution_count": null,
   "id": "6",
   "metadata": {},
   "outputs": [],
   "source": [
    "profile.to_file(\"reports/income_census_dataset_report.html\")"
   ]
  },
  {
   "cell_type": "markdown",
   "id": "7",
   "metadata": {},
   "source": [
    "## Dataset comparison\n",
    "\n",
    "It is also possible to compare two (or more) datasets using the `compare` function.\n",
    "This can be useful when comparing two subsets or two versions of a dataset."
   ]
  },
  {
   "cell_type": "code",
   "execution_count": null,
   "id": "8",
   "metadata": {},
   "outputs": [],
   "source": [
    "below_50k_report = ProfileReport(\n",
    "    income_census[income_census[\"income\"] == '>50K'],\n",
    "    title=\"Below 50k Report\",\n",
    ")\n",
    "\n",
    "above_50k_report = ProfileReport(\n",
    "    income_census[income_census[\"income\"] == '<=50K'],\n",
    "    title=\"Above 50k Report\",\n",
    ")\n",
    "\n",
    "comparison_report = below_50k_report.compare(above_50k_report)\n",
    "comparison_report.config.html.style.primary_colors = [\"#FCC445\", \"#57ACD9\"]\n",
    "comparison_report.to_file(\"reports/income_census_dataset_comparison.html\")\n"
   ]
  },
  {
   "cell_type": "code",
   "id": "9",
   "metadata": {},
   "outputs": [],
   "source": []
  }
 ],
 "metadata": {
  "kernelspec": {
   "display_name": "Python 3",
   "language": "python",
   "name": "python3"
  },
  "language_info": {
   "codemirror_mode": {
    "name": "ipython",
    "version": 2
   },
   "file_extension": ".py",
   "mimetype": "text/x-python",
   "name": "python",
   "nbconvert_exporter": "python",
   "pygments_lexer": "ipython2",
   "version": "2.7.6"
  }
 },
 "nbformat": 4,
 "nbformat_minor": 5
}
