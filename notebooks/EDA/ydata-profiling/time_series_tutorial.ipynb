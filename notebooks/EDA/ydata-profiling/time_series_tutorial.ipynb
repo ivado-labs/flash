{
 "cells": [
  {
   "cell_type": "markdown",
   "id": "0",
   "metadata": {},
   "source": [
    "# Ydata-profiling Tutorial\n",
    "The Flash team is excited to share with you a small tutorial on Ydata-profiling.\n",
    "Before jumping into this tutorial, we recommend giving a look to this [README](README.md) in order to get more familiar with Ydata-profiling and its pros/cons ! \n",
    "\n",
    "Now that’s being said, let’s dig into a small example where we will explore the US pollution dataset."
   ]
  },
  {
   "cell_type": "markdown",
   "id": "1",
   "metadata": {},
   "source": [
    "## Import libraries"
   ]
  },
  {
   "cell_type": "code",
   "execution_count": null,
   "id": "2",
   "metadata": {},
   "outputs": [],
   "source": [
    "import pandas as pd\n",
    "from ydata_profiling.utils.cache import cache_file\n",
    "from ydata_profiling import ProfileReport"
   ]
  },
  {
   "cell_type": "markdown",
   "id": "3",
   "metadata": {},
   "source": [
    "## Import data\n",
    "\n",
    "In this example we will use the US Pollution dataset. \n",
    "\n",
    "This dataset provides information about air quality in the United States, with an emphasis on pollutants like Nitrogen Dioxide (NO2), Sulphur Dioxide (SO2), Carbon Monoxide (CO), and Ozone (O3). "
   ]
  },
  {
   "cell_type": "code",
   "execution_count": null,
   "id": "4",
   "metadata": {},
   "outputs": [],
   "source": [
    "file_name = cache_file(\n",
    "    \"pollution_us_2000_2016.csv\",\n",
    "    \"https://query.data.world/s/mz5ot3l4zrgvldncfgxu34nda45kvb\",\n",
    ")\n",
    "\n",
    "df_raw = pd.read_csv(file_name, index_col=[0])\n",
    "df_raw[\"Date Local\"] = pd.to_datetime(df_raw[\"Date Local\"])\n",
    "site = df_raw[df_raw[\"Site Num\"] == 9997]\n",
    "site.head()"
   ]
  },
  {
   "cell_type": "code",
   "execution_count": null,
   "id": "5",
   "metadata": {},
   "outputs": [],
   "source": [
    "profile = ProfileReport(\n",
    "    site, \n",
    "    tsmode=True,\n",
    "    title=\"US Pollution Report\", \n",
    "    sortby=\"Date Local\"\n",
    ")"
   ]
  },
  {
   "cell_type": "code",
   "execution_count": null,
   "id": "6",
   "metadata": {},
   "outputs": [],
   "source": [
    "profile.to_file(\"reports/us_pollution_dataset_report.html\")"
   ]
  },
  {
   "cell_type": "markdown",
   "id": "7",
   "metadata": {},
   "source": [
    "## Dataset comparison\n",
    "\n",
    "It is also possible to compare two (or more) datasets using the `compare` function.\n",
    "This can be useful when comparing two time periods or two populations."
   ]
  },
  {
   "cell_type": "code",
   "execution_count": null,
   "id": "8",
   "metadata": {},
   "outputs": [],
   "source": [
    "us_pollution_site_5005_report = ProfileReport(\n",
    "    df_raw[df_raw[\"Site Num\"] == 5005],\n",
    "    tsmode=True,\n",
    "    sortby=\"Date Local\",\n",
    "    type_schema={\"SO2 1st Max Hour\": \"TimeSeries\"}, # This enforces a feature to have the Timeseries type\n",
    "    title=\"Site 5005 US Pollution Report\",\n",
    ")\n",
    "\n",
    "us_pollution_site_9997_report = ProfileReport(\n",
    "    df_raw[df_raw[\"Site Num\"] == 9997],\n",
    "    tsmode=True,\n",
    "    sortby=\"Date Local\",\n",
    "    type_schema={\"SO2 1st Max Hour\": \"TimeSeries\"}, # This enforces a feature to have the Timeseries type\n",
    "    title=\"Site 9997 US Pollution Report\",\n",
    ")\n",
    "\n",
    "comparison_report = us_pollution_site_5005_report.compare(us_pollution_site_9997_report)\n",
    "comparison_report.config.html.style.primary_colors = [\"#FCC445\", \"#57ACD9\"]"
   ]
  },
  {
   "cell_type": "code",
   "execution_count": null,
   "id": "9",
   "metadata": {},
   "outputs": [],
   "source": [
    "comparison_report.to_file(\"reports/us_pollution_dataset_comparison.html\")"
   ]
  }
 ],
 "metadata": {
  "kernelspec": {
   "display_name": "Python 3",
   "language": "python",
   "name": "python3"
  },
  "language_info": {
   "codemirror_mode": {
    "name": "ipython",
    "version": 2
   },
   "file_extension": ".py",
   "mimetype": "text/x-python",
   "name": "python",
   "nbconvert_exporter": "python",
   "pygments_lexer": "ipython2",
   "version": "2.7.6"
  }
 },
 "nbformat": 4,
 "nbformat_minor": 5
}
