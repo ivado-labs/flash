{
 "cells": [
  {
   "cell_type": "markdown",
   "id": "0",
   "metadata": {},
   "source": [
    "# Pycaret Tutorial (Regression use-case)\n",
    "\n",
    "The Flash team is excited to share with you a small tutorial on how to use Pycaret.\n",
    "\n",
    "Before jumping into this tutorial, we recommend giving a look to this [README](README.md) in order to get more familiar with Pycaret and its pros/cons !\n",
    "Now that's being said, let's dig into a small example where we will predict a house's price based on couple of its features such as the neighborhood, number of bedrooms, house's age, etc.\n",
    "\n",
    "We'll do the following:\n",
    "1. Pre-process our data (Bonus demo on `YData Profilling` library)\n",
    "2. Compare the performance of couple ML algorithms\n",
    "3. Run some Hyper-parameter tuning\n",
    "4. Evaluate and visualize our final model's performance\n",
    "\n"
   ]
  },
  {
   "cell_type": "markdown",
   "id": "1",
   "metadata": {},
   "source": [
    "## Import dependencies\n"
   ]
  },
  {
   "cell_type": "code",
   "execution_count": null,
   "id": "2",
   "metadata": {},
   "outputs": [],
   "source": [
    "from pycaret.datasets import get_data\n",
    "from pycaret.regression import *\n",
    "from ydata_profiling import ProfileReport\n"
   ]
  },
  {
   "cell_type": "markdown",
   "id": "3",
   "metadata": {},
   "source": [
    "## Load dataset\n",
    "\n",
    "For this tutorial, we'll use one of sample dataset available in Pycaret."
   ]
  },
  {
   "cell_type": "code",
   "execution_count": null,
   "id": "4",
   "metadata": {},
   "outputs": [],
   "source": [
    "housing_data = get_data('house')"
   ]
  },
  {
   "cell_type": "code",
   "execution_count": null,
   "id": "5",
   "metadata": {},
   "outputs": [],
   "source": [
    "profile = ProfileReport(housing_data, title=\"Profiling Report\", explorative=True)\n",
    "profile.to_file(\"housing_data_report.html\")"
   ]
  },
  {
   "cell_type": "markdown",
   "id": "6",
   "metadata": {},
   "source": [
    "Out of the 81 available columns, we will keep couple relevant columns:"
   ]
  },
  {
   "cell_type": "code",
   "execution_count": null,
   "id": "7",
   "metadata": {},
   "outputs": [],
   "source": [
    "COLS_TO_KEEP = [ \n",
    "    'MSZoning', 'Neighborhood', 'LotFrontage', 'GrLivArea',\n",
    "    'GarageType', 'GarageCars', 'GarageArea',\n",
    "    'BedroomAbvGr', 'TotRmsAbvGrd', 'KitchenAbvGr', 'FullBath',\n",
    "    'HeatingQC', 'CentralAir', 'Electrical', 'Fireplaces',\n",
    "    'YearBuilt', 'OverallQual', 'OverallCond', 'YrSold','SalePrice']"
   ]
  },
  {
   "cell_type": "code",
   "execution_count": null,
   "id": "8",
   "metadata": {},
   "outputs": [],
   "source": [
    "data = housing_data[COLS_TO_KEEP]"
   ]
  },
  {
   "cell_type": "markdown",
   "id": "9",
   "metadata": {},
   "source": [
    "## Model comparison"
   ]
  },
  {
   "cell_type": "code",
   "execution_count": null,
   "id": "10",
   "metadata": {},
   "outputs": [],
   "source": [
    "regression_setup = setup(\n",
    "    data = data, \n",
    "    target = 'SalePrice',\n",
    "    train_size = 0.8,\n",
    "    fold_strategy = 'kfold',\n",
    "    fold = 5,\n",
    "    categorical_features=['MSZoning', 'Neighborhood', 'GarageType', 'HeatingQC', 'CentralAir', 'Electrical'],\n",
    "    max_encoding_ohe = 10,\n",
    "    numeric_features=['LotFrontage', 'GrLivArea', 'GarageCars', 'BedroomAbvGr', 'TotRmsAbvGrd', 'KitchenAbvGr', 'FullBath', 'Fireplaces', 'YearBuilt', 'YrSold', 'OverallQual', 'OverallCond', 'GarageArea'],\n",
    "\n",
    "    session_id = 123)"
   ]
  },
  {
   "cell_type": "code",
   "execution_count": null,
   "id": "11",
   "metadata": {},
   "outputs": [],
   "source": [
    "best_model = compare_models()"
   ]
  },
  {
   "cell_type": "code",
   "execution_count": null,
   "id": "12",
   "metadata": {},
   "outputs": [],
   "source": [
    "evaluate_model(best_model)"
   ]
  },
  {
   "cell_type": "markdown",
   "id": "13",
   "metadata": {},
   "source": [
    "## Hyper-paramters tuning\n",
    "\n",
    "Out of the three best performing models we will fine-tune the hyper-parameters and choose the best performing model:"
   ]
  },
  {
   "cell_type": "code",
   "execution_count": null,
   "id": "14",
   "metadata": {},
   "outputs": [],
   "source": [
    "GBR = create_model('gbr', verbose=False)\n",
    "LGBM = create_model('lightgbm', verbose=False)\n",
    "ET = create_model('et', verbose=False)"
   ]
  },
  {
   "cell_type": "code",
   "execution_count": null,
   "id": "15",
   "metadata": {},
   "outputs": [],
   "source": [
    "tuned_GBR = tune_model(GBR, optimize='RMSE')\n",
    "tuned_LGBM = tune_model(LGBM, optimize='RMSE')\n",
    "tuned_ET = tune_model(ET, optimize='RMSE')"
   ]
  },
  {
   "cell_type": "markdown",
   "id": "16",
   "metadata": {},
   "source": [
    "## Analyze model"
   ]
  },
  {
   "cell_type": "code",
   "execution_count": null,
   "id": "17",
   "metadata": {},
   "outputs": [],
   "source": [
    "plot_model(tuned_ET, plot = 'residuals')\n"
   ]
  },
  {
   "cell_type": "code",
   "execution_count": null,
   "id": "18",
   "metadata": {},
   "outputs": [],
   "source": [
    "plot_model(tuned_ET, plot = 'error')\n",
    "\n"
   ]
  },
  {
   "cell_type": "code",
   "execution_count": null,
   "id": "19",
   "metadata": {},
   "outputs": [],
   "source": [
    "plot_model(tuned_ET, plot = 'feature')\n"
   ]
  },
  {
   "cell_type": "code",
   "execution_count": null,
   "id": "20",
   "metadata": {},
   "outputs": [],
   "source": [
    "evaluate_model(tuned_ET)"
   ]
  },
  {
   "cell_type": "markdown",
   "id": "21",
   "metadata": {},
   "source": [
    "## Prediction\n",
    "The `predict_model` function returns `prediction_label` as new column to the input dataframe. When `data` is None (default), it uses the test set (created during the setup function) for scoring."
   ]
  },
  {
   "cell_type": "code",
   "execution_count": null,
   "id": "22",
   "metadata": {},
   "outputs": [],
   "source": [
    "holdout_pred = predict_model(tuned_ET)\n",
    "holdout_pred.head()"
   ]
  },
  {
   "cell_type": "code",
   "execution_count": null,
   "id": "23",
   "metadata": {},
   "outputs": [],
   "source": [
    "save_model(tuned_ET, 'pycaret_regression_tutorial')"
   ]
  }
 ],
 "metadata": {
  "kernelspec": {
   "display_name": "Python 3",
   "language": "python",
   "name": "python3"
  },
  "language_info": {
   "codemirror_mode": {
    "name": "ipython",
    "version": 2
   },
   "file_extension": ".py",
   "mimetype": "text/x-python",
   "name": "python",
   "nbconvert_exporter": "python",
   "pygments_lexer": "ipython2",
   "version": "2.7.6"
  }
 },
 "nbformat": 4,
 "nbformat_minor": 5
}
