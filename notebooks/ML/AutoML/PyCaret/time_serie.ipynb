{
 "cells": [
  {
   "cell_type": "markdown",
   "id": "0",
   "metadata": {},
   "source": [
    "# Pycaret Tutorial (Time series use-case)\n",
    "\n",
    "The Flash team is excited to share with you a small tutorial on how to use Pycaret.\n",
    "\n",
    "Before jumping into this tutorial, we recommend giving a look to this [README](README.md) in order to get more familiar with Pycaret and its pros/cons !\n",
    "Now that's being said, let's dig into a small example where we will forecast the number of an airline passengers each month.\n",
    "\n",
    "We'll do the following:\n",
    "1. Analyze time series\n",
    "2. Compare the performance of couple ML algorithms\n",
    "3. Run some Hyper-parameter tuning\n",
    "4. Evaluate and visualize our final model's performance\n",
    "\n"
   ]
  },
  {
   "cell_type": "markdown",
   "id": "1",
   "metadata": {},
   "source": [
    "## Import dependencies\n"
   ]
  },
  {
   "cell_type": "code",
   "execution_count": null,
   "id": "2",
   "metadata": {},
   "outputs": [],
   "source": [
    "from pycaret.datasets import get_data\n",
    "from pycaret.time_series import *\n",
    "from ydata_profiling import ProfileReport\n"
   ]
  },
  {
   "cell_type": "markdown",
   "id": "3",
   "metadata": {},
   "source": [
    "## Load dataset\n",
    "\n",
    "For this tutorial, we'll use one of sample dataset available in Pycaret."
   ]
  },
  {
   "cell_type": "code",
   "execution_count": null,
   "id": "4",
   "metadata": {},
   "outputs": [],
   "source": [
    "airline_data = get_data('airline')"
   ]
  },
  {
   "cell_type": "markdown",
   "id": "5",
   "metadata": {},
   "source": [
    "## Model comparison"
   ]
  },
  {
   "cell_type": "code",
   "execution_count": null,
   "id": "6",
   "metadata": {},
   "outputs": [],
   "source": [
    "ts_setup = setup(\n",
    "    data = airline_data, \n",
    "    fh=5, # The forecast horizon to be used for forecasting\n",
    "    fold_strategy = 'expanding',\n",
    "    session_id = 123)"
   ]
  },
  {
   "cell_type": "markdown",
   "id": "7",
   "metadata": {},
   "source": [
    "## Analyse time serie\n",
    "\n",
    "The 'check_stats' function is used to get summary statistics and run statistical tests on the original data or model residuals."
   ]
  },
  {
   "cell_type": "code",
   "execution_count": null,
   "id": "8",
   "metadata": {},
   "outputs": [],
   "source": [
    "check_stats()"
   ]
  },
  {
   "cell_type": "code",
   "execution_count": null,
   "id": "9",
   "metadata": {},
   "outputs": [],
   "source": [
    "best_model = compare_models()"
   ]
  },
  {
   "cell_type": "markdown",
   "id": "10",
   "metadata": {},
   "source": [
    "## Analyze model\n",
    "\n",
    "Multiple plots are available using the `plot` parameters:\n",
    "- `ts` - Time Series Plot\n",
    "- `train_test_split` - Train Test Split\n",
    "- `cv` - Cross Validation\n",
    "- `acf` - Auto Correlation (ACF)\n",
    "- `pacf` - Partial Auto Correlation (PACF)\n",
    "- `decomp` - Classical Decomposition\n",
    "- `decomp_stl` - STL Decomposition\n",
    "- `diagnostics` - Diagnostics Plot\n",
    "- `diff` - Difference Plot\n",
    "- `periodogram` - Frequency Components (Periodogram)\n",
    "- `fft` - Frequency Components (FFT)\n",
    "- `ccf` - Cross Correlation (CCF)\n",
    "- `forecast` - “Out-of-Sample” Forecast Plot\n",
    "- `insample` - “In-Sample” Forecast Plot\n",
    "- `residuals` - Residuals Plot"
   ]
  },
  {
   "cell_type": "code",
   "execution_count": null,
   "id": "11",
   "metadata": {},
   "outputs": [],
   "source": [
    "plot_model(\n",
    "    best_model, \n",
    "    plot = 'forecast', \n",
    "    data_kwargs = {'fh' : 10} # Plot forecast for 10 months in future\n",
    ")\n"
   ]
  },
  {
   "cell_type": "code",
   "execution_count": null,
   "id": "12",
   "metadata": {},
   "outputs": [],
   "source": [
    "plot_model(best_model, plot = 'acf')\n"
   ]
  },
  {
   "cell_type": "code",
   "execution_count": null,
   "id": "13",
   "metadata": {},
   "outputs": [],
   "source": [
    "plot_model(best_model, plot = 'residuals')"
   ]
  },
  {
   "cell_type": "markdown",
   "id": "14",
   "metadata": {},
   "source": [
    "## Prediction\n",
    "The `predict_model` function returns `prediction_label` as new column to the input dataframe. When `data` is None (default), it uses the test set (created during the setup function) for scoring."
   ]
  },
  {
   "cell_type": "code",
   "execution_count": null,
   "id": "15",
   "metadata": {},
   "outputs": [],
   "source": [
    "holdout_pred = predict_model(best_model, return_pred_int= True)\n",
    "holdout_pred.head()"
   ]
  },
  {
   "cell_type": "code",
   "execution_count": null,
   "id": "16",
   "metadata": {},
   "outputs": [],
   "source": [
    "save_model(best_model, 'pycaret_time_serie_tutorial')"
   ]
  }
 ],
 "metadata": {
  "kernelspec": {
   "display_name": "Python 3",
   "language": "python",
   "name": "python3"
  },
  "language_info": {
   "codemirror_mode": {
    "name": "ipython",
    "version": 2
   },
   "file_extension": ".py",
   "mimetype": "text/x-python",
   "name": "python",
   "nbconvert_exporter": "python",
   "pygments_lexer": "ipython2",
   "version": "2.7.6"
  }
 },
 "nbformat": 4,
 "nbformat_minor": 5
}
