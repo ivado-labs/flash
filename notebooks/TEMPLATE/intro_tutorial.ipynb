{
 "cells": [
  {
   "cell_type": "markdown",
   "id": "0",
   "metadata": {},
   "source": [
    "# TOOL_NAME Tutorial\n",
    "The Flash team is excited to share with you a small tutorial on TOOL_NAME.\n",
    "Before jumping into this tutorial, we recommend giving a look to this [README](README.md) in order to get more familiar with TOOL_NAME and its pros/cons ! \n",
    "\n",
    "**Below you can share a small demo of the tool**"
   ]
  },
  {
   "cell_type": "code",
   "id": "1",
   "metadata": {},
   "outputs": [],
   "source": []
  }
 ],
 "metadata": {
  "kernelspec": {
   "display_name": "Python 3",
   "language": "python",
   "name": "python3"
  },
  "language_info": {
   "codemirror_mode": {
    "name": "ipython",
    "version": 2
   },
   "file_extension": ".py",
   "mimetype": "text/x-python",
   "name": "python",
   "nbconvert_exporter": "python",
   "pygments_lexer": "ipython2",
   "version": "2.7.6"
  }
 },
 "nbformat": 4,
 "nbformat_minor": 5
}
